{
 "cells": [
  {
   "cell_type": "code",
   "execution_count": 1,
   "metadata": {
    "scrolled": true
   },
   "outputs": [
    {
     "name": "stdout",
     "output_type": "stream",
     "text": [
      "Collecting pymed\n",
      "  Downloading https://files.pythonhosted.org/packages/56/c3/0a260bd7b8e2d021097954accefb749f13e8fbd6b673293d33eac0905174/pymed-0.8.9-py3-none-any.whl\n",
      "Requirement already satisfied: requests>=2.20.0 in c:\\users\\melanie\\anaconda3\\lib\\site-packages (from pymed) (2.21.0)\n",
      "Requirement already satisfied: chardet<3.1.0,>=3.0.2 in c:\\users\\melanie\\anaconda3\\lib\\site-packages (from requests>=2.20.0->pymed) (3.0.4)\n",
      "Requirement already satisfied: idna<2.9,>=2.5 in c:\\users\\melanie\\anaconda3\\lib\\site-packages (from requests>=2.20.0->pymed) (2.8)\n",
      "Requirement already satisfied: urllib3<1.25,>=1.21.1 in c:\\users\\melanie\\anaconda3\\lib\\site-packages (from requests>=2.20.0->pymed) (1.24.1)\n",
      "Requirement already satisfied: certifi>=2017.4.17 in c:\\users\\melanie\\anaconda3\\lib\\site-packages (from requests>=2.20.0->pymed) (2020.6.20)\n",
      "Installing collected packages: pymed\n",
      "Successfully installed pymed-0.8.9\n",
      "Note: you may need to restart the kernel to use updated packages.\n"
     ]
    }
   ],
   "source": [
    "#pip install pymed"
   ]
  },
  {
   "cell_type": "code",
   "execution_count": 1,
   "metadata": {},
   "outputs": [
    {
     "name": "stdout",
     "output_type": "stream",
     "text": [
      "['Acetobacter aurantius', 'Acinetobacter spp.', 'Acinetobacter baumannii', 'Acinetobacter lwoffii', 'Actinomyces', 'Actinomyces israelii', 'Agrobacterium radiobacter', 'Agrobacterium tumefaciens', 'Azorhizobium caulinodans', 'Azotobacter vinelandii', 'Anaplasma', 'Anaplasma phagocytophilum', 'Bacillus', 'Bacillus anthracis', 'Bacillus brevis', 'Bacillus cereus', 'Bacillus fusiformis', 'Bacillus licheniformis', 'Bacillus megaterium', 'Bacillus mycoides', 'Bacillus stearothermophilus', 'Bacillus subtilis', 'Bacteroides', 'Bacteroides fragilis', 'Bacteroides melaninogenicus', 'Bartonella', 'Bartonella henselae', 'Bartonella quintana', 'Bordetella', 'Bordetella bronchiseptica', 'Bordetella pertussis', 'Borrelia burgdorferi', 'Brucella', 'Brucella abortus', 'Brucella melitensis', 'Brucella ovis', 'Brucella suis', 'Burkholderia', 'Burkholderia mallei', 'Burkholderia pseudomallei', 'Burkholderia cepacia (MDR)', 'Campylobacter', 'Campylobacter coli', 'Campylobacter fetus', 'Campylobacter jejuni', 'Campylobacter pylori', 'Chlamydia', 'Chlamydia trachomatis', 'Chlamydophila', 'Chlamydophila pneumoniae (Chlamydia pneumoniae)', 'Chlamydophila psittaci (Chlamydia psittaci)', 'Chlamydophila trachomatis', 'Citrobacter', 'Clostridium', 'Clostridium botulinum', 'Clostridium difficile', 'Clostridium perfringens (Clostridium welchii)', 'Clostridium tetani', 'Corynebacterium', 'Corynebacterium diphtheriae', 'Corynebacterium fusiforme', 'Corynebacterium pseudotubercolosis', 'Corynebacterium ulcerans', 'Coxiella burnetii', 'Ehrlichia chaffeensis', 'Enterobacter', 'Enterobacter aerogenes', 'Enterobacter cloacae (ESBL)', 'Enterococcus', 'Enterococcus avium', 'Enterococcus durans', 'Enterococcus faecalis (VRE)', 'Enterococcus faecium (VRE)', 'Enterococcus galllinarum', 'Enterococcus hirae', 'Enterococcus maloratus', 'Escherichia coli (auch EHEC, EPEC, ETEC, EIEC, EAEC, ESBL, DAEC)', 'Francisella tularensis', 'Fusobacterium nucleatum', 'Gardnerella vaginalis', 'Haemophilus', 'Haemophilus ducreyi', 'Haemophilus influenzae', 'Haemophilus parainfluenzae', 'Haemophilus pertussis', 'Haemophilus vaginalis', 'Helicobacter pylori', 'Klebsiella', 'Klebsiella granulomatis', 'Klebsiella oxytoca (ESBL)', 'Klebsiella pneumoniae (MDR, ESBL)', 'Lactobacillus', 'Lactobacillus acidophilus', 'Lactobacillus bulgaricus', 'Lactobacillus casei', 'Lactococcus lactis', 'Leclercia adecarboxylata', 'Legionella pneumophila', 'Leptospira interrogans', 'Leuconostoc pseudomesenteroides', ' Listerien', 'Listeria monocytogenes', 'Methanobacterium extroquens', 'Microbacterium multiforme', 'Micrococcus luteus', 'Moraxella catarrhalis', 'Morganella (ESBL)', 'Mycobacterium', 'Mycobacterium avium', 'Mycobacterium bovis', 'Mycobacterium diphtheriae', 'Mycobacterium intracellulare', 'Mycobacterium leprae', 'Mycobacterium lepraemurium', 'Mycobacterium phlei', 'Mycobacterium smegmatis', 'Mycobacterium tuberculosis (MDR)', 'Mycoplasma', 'Mycoplasma fermentans', 'Mycoplasma genitalium', 'Mycoplasma hominis', 'Mycoplasma penetrans', 'Mycoplasma pneumoniae', ' Neisseria', ' Neisseria gonorrhoeae', ' Neisseria meningitidis', 'Orientia tsutsugamushi', 'Pasteurella', 'Pasteurella multocida', 'Pasteurella tularensis', 'Peptostreptococcus', 'Porphyromonas gingivalis', 'Proteus mirabilis', 'Proteus vulgaris', 'Providencia stuartii', 'Pseudomonas', 'Pseudomonas aeruginosa', 'Ralstonia', 'Rhizobium radiobacter', 'Rickettsia', 'Rickettsia prowazekii', 'Rickettsia psittaci', 'Rickettsia quintana', 'Rickettsia rickettsii', 'Rickettsia trachomae', 'Rickettsia typhi', 'Salmonella', 'Salmonella Enteritidis', 'Salmonella Paratyphi', 'Salmonella Typhi', 'Salmonella Typhimurium', 'Serratia marcescens', 'Shigella dysenteriae', 'Shigella sonnei', 'Staphylococcus', 'Staphylococcus aureus (MRSA, VRSA)  ', 'Staphylococcus capitis', 'Staphylococcus epidermidis', 'Staphylococcus haemolyticus ', 'Staphylococcus hominis ', 'Staphylococcus lugdunensis', 'Staphylococcus saprophyticus ', 'Stenotrophomonas maltophilia', 'Streptococcus', 'Streptococcus agalactiae', 'Streptococcus avium', 'Streptococcus bovis', 'Streptococcus cricetus', 'Streptococcus faceium', 'Streptococcus faecalis', 'Streptococcus ferus', 'Streptococcus gallinarum', 'Streptococcus lactis', 'Streptococcus mitior', 'Streptococcus mitis', 'Streptococcus mutans', 'Streptococcus oralis', 'Streptococcus pneumoniae (PRSP)', 'Streptococcus pyogenes', 'Streptococcus rattus', 'Streptococcus salivarius', 'Streptococcus sanguis', 'Streptococcus sobrinus', 'Treponema', 'Treponema pallidum', 'Treponema denticola', 'Vibrio', 'Vibrio cholerae', 'Vibrio comma', 'Vibrio parahaemolyticus', 'Vibrio vulnificus', 'Wolbachia', 'Yersinia', 'Yersinia enterocolitica', 'Yersinia pestis', 'Yersinia pseudotuberculosis', 'viridans streptococci', 'Bacillus thuringiensis', 'Bacteroides gingivalis', 'Prevotella melaninogenica', 'Burkholderia cepacia', 'Calymmatobacterium granulomatis', 'Chlamydophila pneumoniae', 'Chlamydia pneumoniae', 'Chlamydophila psittaci', 'Chlamydia psittaci', 'Clostridium perfringens', 'Clostridium welchii', 'Ehrlichia ewingii', 'Eikenella corrodens', 'Enterobacter cloacae', 'Enterococcus faecalis', 'Enterococcus faecium', 'Enterococcus gallinarum', 'Escherichia coli', 'Fusobacterium necrophorum', 'Klebsiella pneumoniae', 'Leishmania donovani', 'Leptospira noguchii', 'Mycobacterium tuberculosis', 'Mycoplasma mexican', 'Neisseria', 'Neisseria gonorrhoeae', 'Neisseria meningitidis', 'Rochalimaea', 'Rochalimaea henselae', 'Rochalimaea quintana', 'Rothia dentocariosa', 'Salmonella enteritidis', 'Salmonella typhi', 'Salmonella typhimurium', 'Spirillum volutans', 'Staphylococcus aureus', 'Streptococcus pneumoniae', 'Ureaplasma urealyticum']\n"
     ]
    }
   ],
   "source": [
    "import pandas as pd\n",
    "from csv import reader\n",
    "\n",
    "with open('Scraper/bacteria_names_new.csv') as read_obj:\n",
    "    csv_reader = reader(read_obj)\n",
    "    list_of_rows = list(csv_reader)\n",
    "    \n",
    "flat_list = [item for sublist in list_of_rows for item in sublist]\n",
    "\n",
    "print(flat_list)"
   ]
  },
  {
   "cell_type": "code",
   "execution_count": null,
   "metadata": {},
   "outputs": [],
   "source": [
    "from pymed import PubMed\n",
    "pubmed = PubMed(tool=\"MyTool\", email=\"melanie.fumfack@outlook.de\")\n",
    "\n",
    "list_article = []\n",
    "info_article = []\n",
    "\n",
    "\n",
    "for i in range(len(flat_list)):\n",
    "    for j in flat_list:\n",
    "        results = pubmed.query(j, max_results = 5)\n",
    "        for article in results:\n",
    "# Print the type of object we've found (can be either PubMedBookArticle or PubMedArticle).\n",
    "# We need to convert it to dictionary with available function\n",
    "            dict_article = article.toDict()\n",
    "            list_article.append(dict_article)\n",
    "    \n",
    "# Generate list of dict records which will hold all article details that could be fetch from PUBMED API\n",
    "for article in list_article:\n",
    "#Sometimes article['pubmed_id'] contains list separated with comma - take first pubmedId in that list - thats article pubmedId\n",
    "    pubmedId = article['pubmed_id'].partition('\\n')[0]\n",
    "    # Append article info to dictionary \n",
    "    info_article.append({u'pubmed_id':pubmedId,\n",
    "                       u'title':article['title'],\n",
    "                       u'journal':article['journal'],\n",
    "                       u'abstract':article['abstract'],\n",
    "                       u'doi':article['doi'],\n",
    "                       u'authors':article['authors']})\n",
    "\n",
    "# Generate Pandas DataFrame from list of dictionaries\n",
    "df = pd.DataFrame.from_dict(info_article)\n",
    "export = df.to_csv (r'export_test.csv', index = None, header=True) \n",
    "\n",
    "#Print first 10 rows of dataframe\n",
    "print(df.head(10))"
   ]
  },
  {
   "cell_type": "code",
   "execution_count": 62,
   "metadata": {},
   "outputs": [
    {
     "ename": "AttributeError",
     "evalue": "'list' object has no attribute 'toDict'",
     "output_type": "error",
     "traceback": [
      "\u001b[1;31m---------------------------------------------------------------------------\u001b[0m",
      "\u001b[1;31mAttributeError\u001b[0m                            Traceback (most recent call last)",
      "\u001b[1;32m<ipython-input-62-0c7f53bd328c>\u001b[0m in \u001b[0;36m<module>\u001b[1;34m\u001b[0m\n\u001b[0;32m      2\u001b[0m \u001b[1;31m# Print the type of object we've found (can be either PubMedBookArticle or PubMedArticle).\u001b[0m\u001b[1;33m\u001b[0m\u001b[1;33m\u001b[0m\u001b[1;33m\u001b[0m\u001b[0m\n\u001b[0;32m      3\u001b[0m \u001b[1;31m# We need to convert it to dictionary with available function\u001b[0m\u001b[1;33m\u001b[0m\u001b[1;33m\u001b[0m\u001b[1;33m\u001b[0m\u001b[0m\n\u001b[1;32m----> 4\u001b[1;33m     \u001b[0mdict_article\u001b[0m \u001b[1;33m=\u001b[0m \u001b[0marticle\u001b[0m\u001b[1;33m.\u001b[0m\u001b[0mtoDict\u001b[0m\u001b[1;33m(\u001b[0m\u001b[1;33m)\u001b[0m\u001b[1;33m\u001b[0m\u001b[1;33m\u001b[0m\u001b[0m\n\u001b[0m\u001b[0;32m      5\u001b[0m     \u001b[0mlist_article\u001b[0m\u001b[1;33m.\u001b[0m\u001b[0mappend\u001b[0m\u001b[1;33m(\u001b[0m\u001b[0mdict_article\u001b[0m\u001b[1;33m)\u001b[0m\u001b[1;33m\u001b[0m\u001b[1;33m\u001b[0m\u001b[0m\n",
      "\u001b[1;31mAttributeError\u001b[0m: 'list' object has no attribute 'toDict'"
     ]
    }
   ],
   "source": [
    "for article in result:\n",
    "# Print the type of object we've found (can be either PubMedBookArticle or PubMedArticle).\n",
    "# We need to convert it to dictionary with available function\n",
    "    dict_article = article.toDict()\n",
    "    list_article.append(dict_article)"
   ]
  },
  {
   "cell_type": "code",
   "execution_count": 87,
   "metadata": {},
   "outputs": [
    {
     "name": "stdout",
     "output_type": "stream",
     "text": [
      "[<itertools.chain object at 0x00000183735A7340>, <itertools.chain object at 0x0000018373DB4910>, <itertools.chain object at 0x0000018373DB4F10>, <itertools.chain object at 0x0000018373DB47C0>, <itertools.chain object at 0x0000018373DCBB80>]\n"
     ]
    }
   ],
   "source": [
    "print(result)"
   ]
  },
  {
   "cell_type": "code",
   "execution_count": 89,
   "metadata": {},
   "outputs": [
    {
     "ename": "TypeError",
     "evalue": "'itertools.chain' object is not subscriptable",
     "output_type": "error",
     "traceback": [
      "\u001b[1;31m---------------------------------------------------------------------------\u001b[0m",
      "\u001b[1;31mTypeError\u001b[0m                                 Traceback (most recent call last)",
      "\u001b[1;32m<ipython-input-89-e9aaae1cac4c>\u001b[0m in \u001b[0;36m<module>\u001b[1;34m\u001b[0m\n\u001b[0;32m      2\u001b[0m \u001b[1;32mfor\u001b[0m \u001b[0marticle\u001b[0m \u001b[1;32min\u001b[0m \u001b[0mresult\u001b[0m\u001b[1;33m:\u001b[0m\u001b[1;33m\u001b[0m\u001b[1;33m\u001b[0m\u001b[0m\n\u001b[0;32m      3\u001b[0m \u001b[1;31m#Sometimes article['pubmed_id'] contains list separated with comma - take first pubmedId in that list - thats article pubmedId\u001b[0m\u001b[1;33m\u001b[0m\u001b[1;33m\u001b[0m\u001b[1;33m\u001b[0m\u001b[0m\n\u001b[1;32m----> 4\u001b[1;33m     \u001b[0mpubmedId\u001b[0m \u001b[1;33m=\u001b[0m \u001b[0mlist\u001b[0m\u001b[1;33m(\u001b[0m\u001b[0marticle\u001b[0m\u001b[1;33m[\u001b[0m\u001b[1;34m'pubmed_id'\u001b[0m\u001b[1;33m]\u001b[0m\u001b[1;33m.\u001b[0m\u001b[0mpartition\u001b[0m\u001b[1;33m(\u001b[0m\u001b[1;34m'\\n'\u001b[0m\u001b[1;33m)\u001b[0m\u001b[1;33m[\u001b[0m\u001b[1;36m0\u001b[0m\u001b[1;33m]\u001b[0m\u001b[1;33m)\u001b[0m\u001b[1;33m\u001b[0m\u001b[1;33m\u001b[0m\u001b[0m\n\u001b[0m\u001b[0;32m      5\u001b[0m     \u001b[1;31m# Append article info to dictionary\u001b[0m\u001b[1;33m\u001b[0m\u001b[1;33m\u001b[0m\u001b[1;33m\u001b[0m\u001b[0m\n\u001b[0;32m      6\u001b[0m     info_article.append({u'pubmed_id':pubmedId,\n",
      "\u001b[1;31mTypeError\u001b[0m: 'itertools.chain' object is not subscriptable"
     ]
    }
   ],
   "source": [
    "# Generate list of dict records which will hold all article details that could be fetch from PUBMED API\n",
    "for article in result:\n",
    "#Sometimes article['pubmed_id'] contains list separated with comma - take first pubmedId in that list - thats article pubmedId\n",
    "    pubmedId = article['pubmed_id'].partition('\\n')[0]\n",
    "    # Append article info to dictionary \n",
    "    info_article.append({u'pubmed_id':pubmedId,\n",
    "                       u'title':article['title'],\n",
    "                       u'journal':article['journal'],\n",
    "                       u'abstract':article['abstract'],\n",
    "                       u'doi':article['doi'],\n",
    "                       u'authors':article['authors']})\n",
    "\n",
    "# Generate Pandas DataFrame from list of dictionaries\n",
    "df = pd.DataFrame.from_dict(info_article)\n",
    "export = df.to_csv (r'export_test.csv', index = None, header=True) \n",
    "\n",
    "#Print first 10 rows of dataframe\n",
    "print(df.head(10))"
   ]
  },
  {
   "cell_type": "code",
   "execution_count": 11,
   "metadata": {},
   "outputs": [
    {
     "name": "stdout",
     "output_type": "stream",
     "text": [
      "  pubmed_id                                              title  \\\n",
      "0  33770292  Maritimibacter harenae sp. nov. and Sneathiell...   \n",
      "1  33737481           Appropriate names for COVID-19 variants.   \n",
      "2  33720007                                                      \n",
      "3  33710455  Cellulomonas taurus sp. nov., a novel bacteria...   \n",
      "4  33709900                                                      \n",
      "\n",
      "                                             journal  \\\n",
      "0                            Antonie van Leeuwenhoek   \n",
      "1                           Science (New York, N.Y.)   \n",
      "2  International journal of systematic and evolut...   \n",
      "3                            Antonie van Leeuwenhoek   \n",
      "4  International journal of systematic and evolut...   \n",
      "\n",
      "                                            abstract  \\\n",
      "0      Two Gram-negative, rod bacteria, strains DP07   \n",
      "1                                               None   \n",
      "2  Eight apiculate strains isolated from Tibet, P...   \n",
      "3  A Gram-positive, smooth, sub-transparent, fain...   \n",
      "4                              Strains of the genus    \n",
      "\n",
      "                                                 doi  \\\n",
      "0  10.1007/s10482-021-01559-x\\n10.1099/ijsem.0.00...   \n",
      "1                            10.1126/science.abh0836   \n",
      "2                             10.1099/ijsem.0.004741   \n",
      "3  10.1007/s10482-021-01538-2\\n10.1099/ijs.0.0590...   \n",
      "4                             10.1099/ijsem.0.004742   \n",
      "\n",
      "                                             authors  \n",
      "0  [{'lastname': 'Khan', 'firstname': 'Shehzad Ab...  \n",
      "1  [{'lastname': 'Abdool Karim', 'firstname': 'Sa...  \n",
      "2  [{'lastname': 'Liu', 'firstname': 'Ze', 'initi...  \n",
      "3  [{'lastname': 'Zhang', 'firstname': 'Sha-Sha',...  \n",
      "4  [{'lastname': 'Klepa', 'firstname': 'Milena Se...  \n"
     ]
    }
   ],
   "source": [
    "from pymed import PubMed\n",
    "pubmed = PubMed(tool=\"MyTool\", email=\"joshua.thos@smail.th-koeln.dew\")\n",
    "#results = pubmed.query(bacteria[i], max_results=5)\n",
    "\n",
    "list_article = []\n",
    "info_article = []\n",
    "\n",
    "for i in bacteria:\n",
    "    results = pubmed.query(i, max_results=5)\n",
    "    for article in results:\n",
    "# Print the type of object we've found (can be either PubMedBookArticle or PubMedArticle).\n",
    "# We need to convert it to dictionary with available function\n",
    "        dict_article = article.toDict()\n",
    "        list_article.append(dict_article)\n",
    "    \n",
    "# Generate list of dict records which will hold all article details that could be fetch from PUBMED API\n",
    "for article in list_article:\n",
    "#Sometimes article['pubmed_id'] contains list separated with comma - take first pubmedId in that list - thats article pubmedId\n",
    "    pubmedId = article['pubmed_id'].partition('\\n')[0]\n",
    "    # Append article info to dictionary \n",
    "    info_article.append({u'pubmed_id':pubmedId,\n",
    "                       u'title':article['title'],\n",
    "                       u'journal':article['journal'],\n",
    "                       u'abstract':article['abstract'],\n",
    "                       u'doi':article['doi'],\n",
    "                       u'authors':article['authors']})\n",
    "\n",
    "# Generate Pandas DataFrame from list of dictionaries\n",
    "df = pd.DataFrame.from_dict(info_article)\n",
    "export = df.to_csv (r'export_test.csv', index = None, header=True) \n",
    "\n",
    "#Print first 10 rows of dataframe\n",
    "print(df.head(10))"
   ]
  },
  {
   "cell_type": "code",
   "execution_count": null,
   "metadata": {},
   "outputs": [],
   "source": []
  }
 ],
 "metadata": {
  "kernelspec": {
   "display_name": "Python 3",
   "language": "python",
   "name": "python3"
  },
  "language_info": {
   "codemirror_mode": {
    "name": "ipython",
    "version": 3
   },
   "file_extension": ".py",
   "mimetype": "text/x-python",
   "name": "python",
   "nbconvert_exporter": "python",
   "pygments_lexer": "ipython3",
   "version": "3.8.5"
  }
 },
 "nbformat": 4,
 "nbformat_minor": 2
}
