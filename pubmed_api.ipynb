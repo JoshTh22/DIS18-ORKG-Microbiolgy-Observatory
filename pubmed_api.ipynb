{
 "cells": [
  {
   "cell_type": "code",
   "execution_count": 1,
   "metadata": {},
   "outputs": [
    {
     "name": "stdout",
     "output_type": "stream",
     "text": [
      "Collecting pymed\n",
      "  Downloading https://files.pythonhosted.org/packages/56/c3/0a260bd7b8e2d021097954accefb749f13e8fbd6b673293d33eac0905174/pymed-0.8.9-py3-none-any.whl\n",
      "Requirement already satisfied: requests>=2.20.0 in c:\\users\\melanie\\anaconda3\\lib\\site-packages (from pymed) (2.21.0)\n",
      "Requirement already satisfied: chardet<3.1.0,>=3.0.2 in c:\\users\\melanie\\anaconda3\\lib\\site-packages (from requests>=2.20.0->pymed) (3.0.4)\n",
      "Requirement already satisfied: idna<2.9,>=2.5 in c:\\users\\melanie\\anaconda3\\lib\\site-packages (from requests>=2.20.0->pymed) (2.8)\n",
      "Requirement already satisfied: urllib3<1.25,>=1.21.1 in c:\\users\\melanie\\anaconda3\\lib\\site-packages (from requests>=2.20.0->pymed) (1.24.1)\n",
      "Requirement already satisfied: certifi>=2017.4.17 in c:\\users\\melanie\\anaconda3\\lib\\site-packages (from requests>=2.20.0->pymed) (2020.6.20)\n",
      "Installing collected packages: pymed\n",
      "Successfully installed pymed-0.8.9\n",
      "Note: you may need to restart the kernel to use updated packages.\n"
     ]
    }
   ],
   "source": [
    "#pip install pymed"
   ]
  },
  {
   "cell_type": "code",
   "execution_count": 2,
   "metadata": {},
   "outputs": [],
   "source": [
    "import pandas as pd "
   ]
  },
  {
   "cell_type": "code",
   "execution_count": 3,
   "metadata": {},
   "outputs": [
    {
     "name": "stdout",
     "output_type": "stream",
     "text": [
      "  pubmed_id                                              title  \\\n",
      "0  33685690  In vitro antimicrobial resistance profiles of ...   \n",
      "1  33679984                      Discovery of a Novel Lineage    \n",
      "2  33679682  Exploring the Therapeutic Potenital of the Lea...   \n",
      "3  33678902                         Biodiversity of meatborne    \n",
      "4  33671753                     Spread of Linezolid-Resistant    \n",
      "5  33668904  Effects of Prebiotics and Probiotics on Honey ...   \n",
      "6  33663929  First characterization of Tn1546-like structur...   \n",
      "7  33652336  Evaluation of Enterococcus faecium NRRL B-2354...   \n",
      "8  33650391  High-level Gentamicin Resistance among Clinica...   \n",
      "9  33649110  Lytic bacteriophages facilitate antibiotic sen...   \n",
      "\n",
      "                                             journal  \\\n",
      "0                           Journal of dairy science   \n",
      "1              International journal of microbiology   \n",
      "2                          Frontiers in microbiology   \n",
      "3             Journal of food science and technology   \n",
      "4                   Antibiotics (Basel, Switzerland)   \n",
      "5                                     Microorganisms   \n",
      "6  Journal of infection and chemotherapy : offici...   \n",
      "7         International journal of food microbiology   \n",
      "8                                       Folia medica   \n",
      "9              Antimicrobial agents and chemotherapy   \n",
      "\n",
      "                                            abstract  \\\n",
      "0  The objective was to describe and compare anti...   \n",
      "1  In this study, we report the isolation and ide...   \n",
      "2  The membrane-bound protease Eep is an importan...   \n",
      "3  This study determined the anti-listerial activ...   \n",
      "4  The aim of this study was to map and investiga...   \n",
      "5                                                      \n",
      "6  Vancomycin-resistant Enterococcus faecium (VRE...   \n",
      "7  Thermal inactivation kinetics of Salmonella in...   \n",
      "8  Enterococci have been considered as one of the...   \n",
      "9                                                      \n",
      "\n",
      "                                 doi  \\\n",
      "0             10.3168/jds.2020-19896   \n",
      "1               10.1155/2021/6618559   \n",
      "2          10.3389/fmicb.2021.649339   \n",
      "3         10.1007/s13197-020-04854-z   \n",
      "4        10.3390/antibiotics10020219   \n",
      "5      10.3390/microorganisms9030481   \n",
      "6         10.1016/j.jiac.2021.02.013   \n",
      "7  10.1016/j.ijfoodmicro.2021.109114   \n",
      "8           10.3897/folmed.63.e53506   \n",
      "9               10.1128/AAC.00143-21   \n",
      "\n",
      "                                             authors  \n",
      "0  [{'lastname': 'Sorge', 'firstname': 'Ulrike S'...  \n",
      "1  [{'lastname': 'de Paula Nogueira Cruz', 'first...  \n",
      "2  [{'lastname': 'Reinseth', 'firstname': 'Ingvil...  \n",
      "3  [{'lastname': 'Sharma', 'firstname': 'Aakriti'...  \n",
      "4  [{'lastname': 'Mališová', 'firstname': 'Lucia'...  \n",
      "5  [{'lastname': 'Borges', 'firstname': 'Daniel',...  \n",
      "6  [{'lastname': 'Wongnak', 'firstname': 'Kornika...  \n",
      "7  [{'lastname': 'Wei', 'firstname': 'Xinyao', 'i...  \n",
      "8  [{'lastname': 'Shahini Shams Abadi', 'firstnam...  \n",
      "9  [{'lastname': 'Canfield', 'firstname': 'Gregor...  \n"
     ]
    }
   ],
   "source": [
    "from pymed import PubMed\n",
    "pubmed = PubMed(tool=\"MyTool\", email=\"melanie.fumfack@outlook.de\")\n",
    "results = pubmed.query(\"Enterococcus faecium\")\n",
    "\n",
    "list_article = []\n",
    "info_article = []\n",
    "\n",
    "for article in results:\n",
    "# Print the type of object we've found (can be either PubMedBookArticle or PubMedArticle).\n",
    "# We need to convert it to dictionary with available function\n",
    "    dict_article = article.toDict()\n",
    "    list_article.append(dict_article)\n",
    "    \n",
    "# Generate list of dict records which will hold all article details that could be fetch from PUBMED API\n",
    "for article in list_article:\n",
    "#Sometimes article['pubmed_id'] contains list separated with comma - take first pubmedId in that list - thats article pubmedId\n",
    "    pubmedId = article['pubmed_id'].partition('\\n')[0]\n",
    "    # Append article info to dictionary \n",
    "    info_article.append({u'pubmed_id':pubmedId,\n",
    "                       u'title':article['title'],\n",
    "                       u'journal':article['journal'],\n",
    "                       u'abstract':article['abstract'],\n",
    "                       u'doi':article['doi'],\n",
    "                       u'authors':article['authors']})\n",
    "\n",
    "# Generate Pandas DataFrame from list of dictionaries\n",
    "df = pd.DataFrame.from_dict(info_article)\n",
    "export = df.to_csv (r'C:/Users/Melanie/Documents/DIS_05/Projekt_Microbiology_Observatory/export.csv', index = None, header=True) \n",
    "\n",
    "#Print first 10 rows of dataframe\n",
    "print(df.head(10))"
   ]
  }
 ],
 "metadata": {
  "kernelspec": {
   "display_name": "Python 3",
   "language": "python",
   "name": "python3"
  },
  "language_info": {
   "codemirror_mode": {
    "name": "ipython",
    "version": 3
   },
   "file_extension": ".py",
   "mimetype": "text/x-python",
   "name": "python",
   "nbconvert_exporter": "python",
   "pygments_lexer": "ipython3",
   "version": "3.7.3"
  }
 },
 "nbformat": 4,
 "nbformat_minor": 2
}
