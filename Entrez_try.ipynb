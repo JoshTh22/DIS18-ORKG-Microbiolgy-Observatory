{
 "cells": [
  {
   "cell_type": "code",
   "execution_count": 1,
   "id": "246fafe2",
   "metadata": {},
   "outputs": [
    {
     "name": "stdout",
     "output_type": "stream",
     "text": [
      "Collecting biopython\n",
      "  Downloading biopython-1.78.tar.gz (16.9 MB)\n",
      "\u001b[K     |████████████████████████████████| 16.9 MB 149 kB/s eta 0:00:01    |█                               | 542 kB 2.9 MB/s eta 0:00:06     |██▊                             | 1.4 MB 2.9 MB/s eta 0:00:06\n",
      "\u001b[?25hRequirement already satisfied: numpy in /home/joshua/Schreibtisch/Studium/Projekt_1/Projekt_1/lib/python3.8/site-packages (from biopython) (1.20.2)\n",
      "Building wheels for collected packages: biopython\n",
      "  Building wheel for biopython (setup.py) ... \u001b[?25ldone\n",
      "\u001b[?25h  Created wheel for biopython: filename=biopython-1.78-cp38-cp38-linux_aarch64.whl size=2523651 sha256=66526c1035d75eee606dcf4d705b3193bf36b86ded6935953c0d9421ac318b98\n",
      "  Stored in directory: /home/joshua/.cache/pip/wheels/24/f2/6b/0740026f9e50978d4ce5495d507acffd8a023909d3a5719ae7\n",
      "Successfully built biopython\n",
      "Installing collected packages: biopython\n",
      "Successfully installed biopython-1.78\n"
     ]
    }
   ],
   "source": [
    "import sys\n",
    "!{sys.executable} -m pip install biopython"
   ]
  },
  {
   "cell_type": "code",
   "execution_count": 180,
   "id": "c304e731",
   "metadata": {},
   "outputs": [],
   "source": [
    "import pandas as pd\n",
    "from Bio import Entrez"
   ]
  },
  {
   "cell_type": "code",
   "execution_count": 181,
   "id": "d9a98138",
   "metadata": {},
   "outputs": [
    {
     "data": {
      "text/plain": [
       "['Acetobacter aurantius',\n",
       " 'Acinetobacter spp.',\n",
       " 'Acinetobacter baumannii',\n",
       " 'Acinetobacter lwoffii',\n",
       " 'Actinomyces',\n",
       " 'Actinomyces israelii',\n",
       " 'Agrobacterium radiobacter',\n",
       " 'Agrobacterium tumefaciens',\n",
       " 'Azorhizobium caulinodans',\n",
       " 'Azotobacter vinelandii']"
      ]
     },
     "execution_count": 181,
     "metadata": {},
     "output_type": "execute_result"
    }
   ],
   "source": [
    "#writing the names of the bacteria into a list to send it one after another to PubMed via API\n",
    "query_list = []\n",
    "\n",
    "query_dataframe = pd.read_csv(\"Scraper/bacteria_names_new.csv\")\n",
    "\n",
    "for i in query_dataframe[\"bacteria names\"]:\n",
    "    query_list.append(i)\n",
    "\n",
    "query_list[:10]"
   ]
  },
  {
   "cell_type": "code",
   "execution_count": 182,
   "id": "8e7b6ccd",
   "metadata": {},
   "outputs": [],
   "source": [
    "#configuring the API settings\n",
    "\n",
    "Entrez.api_key = \"19af6438ac711c6cedc273b4bc3f2f135709\"\n",
    "Entrez.email = \"joshua.thos@smail.th-koeln.de\""
   ]
  },
  {
   "cell_type": "code",
   "execution_count": 184,
   "id": "9dd56ad5",
   "metadata": {},
   "outputs": [
    {
     "name": "stdout",
     "output_type": "stream",
     "text": [
      "['33897637', '33897328', '33896292', '33896011', '33893654', '33892804', '33889370', '33889362', '33888961', '33887390']\n"
     ]
    }
   ],
   "source": [
    "#testing the query pipeline with a single query\n",
    "handle = Entrez.esearch(db=\"pubmed\", term = \"Acinetobacter baumannii\", retmax = \"10\")\n",
    "record = Entrez.read(handle)\n",
    "print(record[\"IdList\"])"
   ]
  },
  {
   "cell_type": "code",
   "execution_count": 185,
   "id": "dc48a8b6",
   "metadata": {},
   "outputs": [],
   "source": [
    "#creating lsit for our resulting pubmed ID's\n",
    "pubmed_idlist = []\n",
    "\n",
    "#a for loop to iterate through the bacteria_list and getting search results\n",
    "\n",
    "for bacteria in query_list:\n",
    "    handle =Entrez.esearch(db = \"pubmed\", term = bacteria, retmax = \"10\")\n",
    "    record = Entrez.read(handle)\n",
    "    pubmed_idlist.append(record[\"IdList\"])"
   ]
  },
  {
   "cell_type": "code",
   "execution_count": 186,
   "id": "0acfab4e",
   "metadata": {},
   "outputs": [
    {
     "data": {
      "text/plain": [
       "[['24501647'],\n",
       " ['33901665', '33892804', '33889142', '33883831', '33882891', '33878387', '33852950', '33851593', '33851566', '33849512'],\n",
       " ['33897637', '33897328', '33896292', '33896011', '33893654', '33892804', '33889370', '33889362', '33888961', '33887390'],\n",
       " ['33879499', '33610246', '33574863', '33424369', '33408761', '33328381', '33304332', '33250496', '33235158', '33194651'],\n",
       " ['33897628', '33894293', '33889308', '33877025', '33876475', '33850721', '33835762', '33833021', '33828964', '33827520']]"
      ]
     },
     "execution_count": 186,
     "metadata": {},
     "output_type": "execute_result"
    }
   ],
   "source": [
    "#printing out the resulting list with the pubmed ID \n",
    "pubmed_idlist[:5]"
   ]
  },
  {
   "cell_type": "code",
   "execution_count": 187,
   "id": "c0084218",
   "metadata": {},
   "outputs": [
    {
     "data": {
      "text/plain": [
       "2291"
      ]
     },
     "execution_count": 187,
     "metadata": {},
     "output_type": "execute_result"
    }
   ],
   "source": [
    "#extracting the sublists into a single list\n",
    "flat_pubmed_idlist = [item for sublist in pubmed_idlist for item in sublist]\n",
    "len(flat_pubmed_idlist)"
   ]
  },
  {
   "cell_type": "code",
   "execution_count": 188,
   "id": "03cc389c",
   "metadata": {},
   "outputs": [
    {
     "data": {
      "text/plain": [
       "1526"
      ]
     },
     "execution_count": 188,
     "metadata": {},
     "output_type": "execute_result"
    }
   ],
   "source": [
    "#droping off dublicates from the flat list\n",
    "\n",
    "flat_pubmed_idlist = list(dict.fromkeys(flat_pubmed_idlist))\n",
    "len(flat_pubmed_idlist)"
   ]
  },
  {
   "cell_type": "code",
   "execution_count": null,
   "id": "140d1fe7",
   "metadata": {},
   "outputs": [],
   "source": [
    "#for loop to iterate through the pubmed ID list and retrieving results\n",
    "from time import sleep\n",
    "#test_list = flat_pubmed_idlist[0:10]\n",
    "meta_data = []\n",
    "\n",
    "for pid in flat_pubmed_idlist:\n",
    "    handle = Entrez.efetch(db=\"pubmed\", id = pid, rettype = \"docsum\", retmode = \"json\")\n",
    "    record = handle.read()\n",
    "    meta_data.append(record)\n",
    "    sleep(0.5)\n",
    "    print(pid)"
   ]
  },
  {
   "cell_type": "code",
   "execution_count": 110,
   "id": "986f9333",
   "metadata": {},
   "outputs": [],
   "source": [
    "df = pd.DataFrame(meta_data)"
   ]
  },
  {
   "cell_type": "code",
   "execution_count": 189,
   "id": "b6e8b1d8",
   "metadata": {},
   "outputs": [],
   "source": [
    "test_df = pd.read_json(\"entrez_metadata.json\", orient=\"records\", lines = True)"
   ]
  },
  {
   "cell_type": "code",
   "execution_count": 196,
   "id": "fafa2519",
   "metadata": {},
   "outputs": [
    {
     "data": {
      "text/plain": [
       "Index(['header', 'result'], dtype='object')"
      ]
     },
     "execution_count": 196,
     "metadata": {},
     "output_type": "execute_result"
    }
   ],
   "source": [
    "test_df.keys()"
   ]
  },
  {
   "cell_type": "code",
   "execution_count": 197,
   "id": "18b0898c",
   "metadata": {},
   "outputs": [
    {
     "data": {
      "text/plain": [
       "RangeIndex(start=0, stop=1526, step=1)"
      ]
     },
     "execution_count": 197,
     "metadata": {},
     "output_type": "execute_result"
    }
   ],
   "source": [
    "test_df['result'].keys()"
   ]
  },
  {
   "cell_type": "code",
   "execution_count": 198,
   "id": "12914da6",
   "metadata": {},
   "outputs": [
    {
     "data": {
      "text/plain": [
       "dict_keys(['uids', '24501647'])"
      ]
     },
     "execution_count": 198,
     "metadata": {},
     "output_type": "execute_result"
    }
   ],
   "source": [
    "test_df['result'][0].keys()"
   ]
  },
  {
   "cell_type": "code",
   "execution_count": 202,
   "id": "bcd219fc",
   "metadata": {},
   "outputs": [
    {
     "name": "stdout",
     "output_type": "stream",
     "text": [
      "['24501647']\n",
      "dict_keys(['uid', 'pubdate', 'epubdate', 'source', 'authors', 'lastauthor', 'title', 'sorttitle', 'volume', 'issue', 'pages', 'lang', 'nlmuniqueid', 'issn', 'essn', 'pubtype', 'recordstatus', 'pubstatus', 'articleids', 'history', 'references', 'attributes', 'pmcrefcount', 'fulljournalname', 'elocationid', 'doctype', 'srccontriblist', 'booktitle', 'medium', 'edition', 'publisherlocation', 'publishername', 'srcdate', 'reportnumber', 'availablefromurl', 'locationlabel', 'doccontriblist', 'docdate', 'bookname', 'chapter', 'sortpubdate', 'sortfirstauthor', 'vernaculartitle'])\n"
     ]
    }
   ],
   "source": [
    "print(test_df['result'][0]['uids'])\n",
    "print(test_df['result'][0]['24501647'].keys())"
   ]
  }
 ],
 "metadata": {
  "kernelspec": {
   "display_name": "Python 3",
   "language": "python",
   "name": "python3"
  },
  "language_info": {
   "codemirror_mode": {
    "name": "ipython",
    "version": 3
   },
   "file_extension": ".py",
   "mimetype": "text/x-python",
   "name": "python",
   "nbconvert_exporter": "python",
   "pygments_lexer": "ipython3",
   "version": "3.8.6"
  }
 },
 "nbformat": 4,
 "nbformat_minor": 5
}
