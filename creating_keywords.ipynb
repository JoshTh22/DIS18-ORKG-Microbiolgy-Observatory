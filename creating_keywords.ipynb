{
 "cells": [
  {
   "cell_type": "code",
   "execution_count": 2,
   "metadata": {},
   "outputs": [],
   "source": [
    "import pandas as pd\n",
    "import ast\n",
    "import collections as c"
   ]
  },
  {
   "cell_type": "code",
   "execution_count": 3,
   "metadata": {},
   "outputs": [],
   "source": [
    "dataframe = pd.read_csv(\"obesity_mesh.csv\")"
   ]
  },
  {
   "cell_type": "code",
   "execution_count": 7,
   "metadata": {},
   "outputs": [
    {
     "data": {
      "text/html": [
       "<div>\n",
       "<style scoped>\n",
       "    .dataframe tbody tr th:only-of-type {\n",
       "        vertical-align: middle;\n",
       "    }\n",
       "\n",
       "    .dataframe tbody tr th {\n",
       "        vertical-align: top;\n",
       "    }\n",
       "\n",
       "    .dataframe thead th {\n",
       "        text-align: right;\n",
       "    }\n",
       "</style>\n",
       "<table border=\"1\" class=\"dataframe\">\n",
       "  <thead>\n",
       "    <tr style=\"text-align: right;\">\n",
       "      <th></th>\n",
       "      <th>Unnamed: 0</th>\n",
       "      <th>AID</th>\n",
       "      <th>mesh</th>\n",
       "    </tr>\n",
       "  </thead>\n",
       "  <tbody>\n",
       "    <tr>\n",
       "      <th>0</th>\n",
       "      <td>0</td>\n",
       "      <td>['S0955-2863(21)00228-X [pii]', '10.1016/j.jnu...</td>\n",
       "      <td>[Studies, mice, germfree animals, controls, mi...</td>\n",
       "    </tr>\n",
       "    <tr>\n",
       "      <th>1</th>\n",
       "      <td>1</td>\n",
       "      <td>['10.1038/s41591-021-01390-x [doi]', '10.1038/...</td>\n",
       "      <td>[Inflammatory bowel disease, IBD, complex, chr...</td>\n",
       "    </tr>\n",
       "    <tr>\n",
       "      <th>2</th>\n",
       "      <td>2</td>\n",
       "      <td>['10.30802/AALAS-JAALAS-20-000139 [doi]']</td>\n",
       "      <td>[differences, animal, husbandry, practices, re...</td>\n",
       "    </tr>\n",
       "    <tr>\n",
       "      <th>3</th>\n",
       "      <td>3</td>\n",
       "      <td>['10.1186/s40168-021-01097-8 [doi]', '10.1186/...</td>\n",
       "      <td>[Leptin-deficient ob/ob mice, leptin receptor-...</td>\n",
       "    </tr>\n",
       "    <tr>\n",
       "      <th>4</th>\n",
       "      <td>4</td>\n",
       "      <td>['35/4/2107 [pii]', '10.21873/invivo.12480 [do...</td>\n",
       "      <td>[BACKGROUND/AIM, Omicronverweight, obesity, ri...</td>\n",
       "    </tr>\n",
       "    <tr>\n",
       "      <th>5</th>\n",
       "      <td>5</td>\n",
       "      <td>['10.1002/mbo3.1194 [doi]']</td>\n",
       "      <td>[Obesity, public, decades, effective, interven...</td>\n",
       "    </tr>\n",
       "    <tr>\n",
       "      <th>6</th>\n",
       "      <td>6</td>\n",
       "      <td>['10.1007/s40200-021-00819-x [doi]', '819 [pii]']</td>\n",
       "      <td>[prevalence, cardiovascular diseases, CVDs, no...</td>\n",
       "    </tr>\n",
       "    <tr>\n",
       "      <th>7</th>\n",
       "      <td>7</td>\n",
       "      <td>['10.3389/fphar.2021.684610 [doi]', '684610 [p...</td>\n",
       "      <td>[SARS-CoV-2, respiratory virus, gastrointestin...</td>\n",
       "    </tr>\n",
       "    <tr>\n",
       "      <th>8</th>\n",
       "      <td>8</td>\n",
       "      <td>['S0016-5085(21)03170-X [pii]', '10.1053/j.gas...</td>\n",
       "      <td>[AIMS, Obesity, type 2 diabetes mellitus, T2DM...</td>\n",
       "    </tr>\n",
       "    <tr>\n",
       "      <th>9</th>\n",
       "      <td>9</td>\n",
       "      <td>['10.1097/MOP.0000000000001035 [doi]', '000084...</td>\n",
       "      <td>[PURPOSE OF REVIEW, review, assess, literature...</td>\n",
       "    </tr>\n",
       "  </tbody>\n",
       "</table>\n",
       "</div>"
      ],
      "text/plain": [
       "   Unnamed: 0                                                AID  \\\n",
       "0           0  ['S0955-2863(21)00228-X [pii]', '10.1016/j.jnu...   \n",
       "1           1  ['10.1038/s41591-021-01390-x [doi]', '10.1038/...   \n",
       "2           2          ['10.30802/AALAS-JAALAS-20-000139 [doi]']   \n",
       "3           3  ['10.1186/s40168-021-01097-8 [doi]', '10.1186/...   \n",
       "4           4  ['35/4/2107 [pii]', '10.21873/invivo.12480 [do...   \n",
       "5           5                        ['10.1002/mbo3.1194 [doi]']   \n",
       "6           6  ['10.1007/s40200-021-00819-x [doi]', '819 [pii]']   \n",
       "7           7  ['10.3389/fphar.2021.684610 [doi]', '684610 [p...   \n",
       "8           8  ['S0016-5085(21)03170-X [pii]', '10.1053/j.gas...   \n",
       "9           9  ['10.1097/MOP.0000000000001035 [doi]', '000084...   \n",
       "\n",
       "                                                mesh  \n",
       "0  [Studies, mice, germfree animals, controls, mi...  \n",
       "1  [Inflammatory bowel disease, IBD, complex, chr...  \n",
       "2  [differences, animal, husbandry, practices, re...  \n",
       "3  [Leptin-deficient ob/ob mice, leptin receptor-...  \n",
       "4  [BACKGROUND/AIM, Omicronverweight, obesity, ri...  \n",
       "5  [Obesity, public, decades, effective, interven...  \n",
       "6  [prevalence, cardiovascular diseases, CVDs, no...  \n",
       "7  [SARS-CoV-2, respiratory virus, gastrointestin...  \n",
       "8  [AIMS, Obesity, type 2 diabetes mellitus, T2DM...  \n",
       "9  [PURPOSE OF REVIEW, review, assess, literature...  "
      ]
     },
     "execution_count": 7,
     "metadata": {},
     "output_type": "execute_result"
    }
   ],
   "source": [
    "dataframe"
   ]
  },
  {
   "cell_type": "code",
   "execution_count": 5,
   "metadata": {},
   "outputs": [],
   "source": [
    "dataframe = dataframe.fillna(\"\")"
   ]
  },
  {
   "cell_type": "code",
   "execution_count": 6,
   "metadata": {},
   "outputs": [],
   "source": [
    "dataframe[\"mesh\"] = dataframe.apply(lambda x: x[\"mesh\"].strip('][').split(', '), axis=1)"
   ]
  },
  {
   "cell_type": "code",
   "execution_count": 9,
   "metadata": {},
   "outputs": [
    {
     "name": "stdout",
     "output_type": "stream",
     "text": [
      "['Studies', 'mice', 'germfree animals', 'controls', 'microbial', 'colonization', 'gut microbiome', 'diet-induced', 'obesity', 'studies', 'diets', 'saturated fat', 'Western diets', 'USA', 'soybean oil', 'unsaturated fatty acids', 'FAs', 'linoleic', 'oleic acid', 'microbiome', 'variable', 'fat metabolism', 'mice', 'soybean oil', 'diet', 'conventionally-raised', 'low-germ', 'germfree mice', 'fed', 'weeks', 'diets', 'high', 'HF', 'low', 'LF', 'soybean oil', 'source', 'fat', 'Conventional', 'germfree', 'mice', 'calories', 'HF', 'LF soybean oil', 'diet', 'Plasma', 'fatty acid', 'levels', 'dependent', 'diet', 'microbial', 'colonization', 'affecting', 'iso-C18:0', 'C20:3n-6', 'C14:0', 'C15:0 levels', 'Colonization status', 'diet', 'impacted levels', 'liver sphingolipids', 'ceramides', 'sphingomyelins', 'sphinganine', 'absorbed fatty acids', 'reflection', 'diet', 'microbial', 'colonization', 'influences', 'liver', 'sphingolipid pools', 'diet', 'microbiome', 'liver sphingolipids', 'plasma fatty acids', 'murine', 'model', 'Western diet', 'soybean oil', 'Hepatic sphingolipids', 'plasma', 'FAs', 'gut microbes']\n"
     ]
    }
   ],
   "source": [
    "print(dataframe[\"mesh\"][0])"
   ]
  },
  {
   "cell_type": "code",
   "execution_count": 10,
   "metadata": {},
   "outputs": [],
   "source": [
    "counter = dict(c.Counter(dataframe[\"mesh\"][0]))"
   ]
  },
  {
   "cell_type": "code",
   "execution_count": 17,
   "metadata": {},
   "outputs": [],
   "source": [
    "dataframe[\"keywords\"] = dataframe.apply(lambda x: [i for i,j in dict(c.Counter(x[\"mesh\"])).items() if j > 2], axis = 1)"
   ]
  },
  {
   "cell_type": "code",
   "execution_count": 32,
   "metadata": {},
   "outputs": [
    {
     "data": {
      "text/plain": [
       "['mice',\n",
       " 'microbial',\n",
       " 'colonization',\n",
       " 'soybean oil',\n",
       " 'diet',\n",
       " 'microbiome',\n",
       " 'obesity']"
      ]
     },
     "execution_count": 32,
     "metadata": {},
     "output_type": "execute_result"
    }
   ],
   "source": [
    "dataframe[\"keywords\"][0]"
   ]
  },
  {
   "cell_type": "code",
   "execution_count": 30,
   "metadata": {},
   "outputs": [],
   "source": [
    "for i in dataframe[\"keywords\"]:\n",
    "    if \"microbiome\" not in i:\n",
    "        i.append(\"microbiome\")\n",
    "    elif \"obesity\" not in i:\n",
    "        i.append(\"obesity\")\n",
    "    else:\n",
    "        continue\n",
    "        "
   ]
  },
  {
   "cell_type": "code",
   "execution_count": 31,
   "metadata": {
    "scrolled": true
   },
   "outputs": [
    {
     "data": {
      "text/html": [
       "<div>\n",
       "<style scoped>\n",
       "    .dataframe tbody tr th:only-of-type {\n",
       "        vertical-align: middle;\n",
       "    }\n",
       "\n",
       "    .dataframe tbody tr th {\n",
       "        vertical-align: top;\n",
       "    }\n",
       "\n",
       "    .dataframe thead th {\n",
       "        text-align: right;\n",
       "    }\n",
       "</style>\n",
       "<table border=\"1\" class=\"dataframe\">\n",
       "  <thead>\n",
       "    <tr style=\"text-align: right;\">\n",
       "      <th></th>\n",
       "      <th>Unnamed: 0</th>\n",
       "      <th>AID</th>\n",
       "      <th>mesh</th>\n",
       "      <th>keywords</th>\n",
       "    </tr>\n",
       "  </thead>\n",
       "  <tbody>\n",
       "    <tr>\n",
       "      <th>0</th>\n",
       "      <td>0</td>\n",
       "      <td>['S0955-2863(21)00228-X [pii]', '10.1016/j.jnu...</td>\n",
       "      <td>[Studies, mice, germfree animals, controls, mi...</td>\n",
       "      <td>[mice, microbial, colonization, soybean oil, d...</td>\n",
       "    </tr>\n",
       "    <tr>\n",
       "      <th>1</th>\n",
       "      <td>1</td>\n",
       "      <td>['10.1038/s41591-021-01390-x [doi]', '10.1038/...</td>\n",
       "      <td>[Inflammatory bowel disease, IBD, complex, chr...</td>\n",
       "      <td>[IBD, eATP, intestinal, inflammation, engineer...</td>\n",
       "    </tr>\n",
       "    <tr>\n",
       "      <th>2</th>\n",
       "      <td>2</td>\n",
       "      <td>['10.30802/AALAS-JAALAS-20-000139 [doi]']</td>\n",
       "      <td>[differences, animal, husbandry, practices, re...</td>\n",
       "      <td>[differences, GM, fecal, bedding, microbiome, ...</td>\n",
       "    </tr>\n",
       "    <tr>\n",
       "      <th>3</th>\n",
       "      <td>3</td>\n",
       "      <td>['10.1186/s40168-021-01097-8 [doi]', '10.1186/...</td>\n",
       "      <td>[Leptin-deficient ob/ob mice, leptin receptor-...</td>\n",
       "      <td>[development, ob/ob, db/db mice, ob/ob mice, o...</td>\n",
       "    </tr>\n",
       "    <tr>\n",
       "      <th>4</th>\n",
       "      <td>4</td>\n",
       "      <td>['35/4/2107 [pii]', '10.21873/invivo.12480 [do...</td>\n",
       "      <td>[BACKGROUND/AIM, Omicronverweight, obesity, ri...</td>\n",
       "      <td>[calcium intake, obese, decreased, feces, micr...</td>\n",
       "    </tr>\n",
       "    <tr>\n",
       "      <th>5</th>\n",
       "      <td>5</td>\n",
       "      <td>['10.1002/mbo3.1194 [doi]']</td>\n",
       "      <td>[Obesity, public, decades, effective, interven...</td>\n",
       "      <td>[diet, composition, WLD, changes, microbiome, ...</td>\n",
       "    </tr>\n",
       "    <tr>\n",
       "      <th>6</th>\n",
       "      <td>6</td>\n",
       "      <td>['10.1007/s40200-021-00819-x [doi]', '819 [pii]']</td>\n",
       "      <td>[prevalence, cardiovascular diseases, CVDs, no...</td>\n",
       "      <td>[cardiovascular diseases, TMAO, microbiome, ob...</td>\n",
       "    </tr>\n",
       "    <tr>\n",
       "      <th>7</th>\n",
       "      <td>7</td>\n",
       "      <td>['10.3389/fphar.2021.684610 [doi]', '684610 [p...</td>\n",
       "      <td>[SARS-CoV-2, respiratory virus, gastrointestin...</td>\n",
       "      <td>[SARS-CoV-2, ACE-2, RAAS, intracrine, activity...</td>\n",
       "    </tr>\n",
       "    <tr>\n",
       "      <th>8</th>\n",
       "      <td>8</td>\n",
       "      <td>['S0016-5085(21)03170-X [pii]', '10.1053/j.gas...</td>\n",
       "      <td>[AIMS, Obesity, type 2 diabetes mellitus, T2DM...</td>\n",
       "      <td>[T2DM, gut, virome, obese, subjects, lean cont...</td>\n",
       "    </tr>\n",
       "    <tr>\n",
       "      <th>9</th>\n",
       "      <td>9</td>\n",
       "      <td>['10.1097/MOP.0000000000001035 [doi]', '000084...</td>\n",
       "      <td>[PURPOSE OF REVIEW, review, assess, literature...</td>\n",
       "      <td>[pubertal, boys, puberty, obesity, microbiome]</td>\n",
       "    </tr>\n",
       "  </tbody>\n",
       "</table>\n",
       "</div>"
      ],
      "text/plain": [
       "   Unnamed: 0                                                AID  \\\n",
       "0           0  ['S0955-2863(21)00228-X [pii]', '10.1016/j.jnu...   \n",
       "1           1  ['10.1038/s41591-021-01390-x [doi]', '10.1038/...   \n",
       "2           2          ['10.30802/AALAS-JAALAS-20-000139 [doi]']   \n",
       "3           3  ['10.1186/s40168-021-01097-8 [doi]', '10.1186/...   \n",
       "4           4  ['35/4/2107 [pii]', '10.21873/invivo.12480 [do...   \n",
       "5           5                        ['10.1002/mbo3.1194 [doi]']   \n",
       "6           6  ['10.1007/s40200-021-00819-x [doi]', '819 [pii]']   \n",
       "7           7  ['10.3389/fphar.2021.684610 [doi]', '684610 [p...   \n",
       "8           8  ['S0016-5085(21)03170-X [pii]', '10.1053/j.gas...   \n",
       "9           9  ['10.1097/MOP.0000000000001035 [doi]', '000084...   \n",
       "\n",
       "                                                mesh  \\\n",
       "0  [Studies, mice, germfree animals, controls, mi...   \n",
       "1  [Inflammatory bowel disease, IBD, complex, chr...   \n",
       "2  [differences, animal, husbandry, practices, re...   \n",
       "3  [Leptin-deficient ob/ob mice, leptin receptor-...   \n",
       "4  [BACKGROUND/AIM, Omicronverweight, obesity, ri...   \n",
       "5  [Obesity, public, decades, effective, interven...   \n",
       "6  [prevalence, cardiovascular diseases, CVDs, no...   \n",
       "7  [SARS-CoV-2, respiratory virus, gastrointestin...   \n",
       "8  [AIMS, Obesity, type 2 diabetes mellitus, T2DM...   \n",
       "9  [PURPOSE OF REVIEW, review, assess, literature...   \n",
       "\n",
       "                                            keywords  \n",
       "0  [mice, microbial, colonization, soybean oil, d...  \n",
       "1  [IBD, eATP, intestinal, inflammation, engineer...  \n",
       "2  [differences, GM, fecal, bedding, microbiome, ...  \n",
       "3  [development, ob/ob, db/db mice, ob/ob mice, o...  \n",
       "4  [calcium intake, obese, decreased, feces, micr...  \n",
       "5  [diet, composition, WLD, changes, microbiome, ...  \n",
       "6  [cardiovascular diseases, TMAO, microbiome, ob...  \n",
       "7  [SARS-CoV-2, ACE-2, RAAS, intracrine, activity...  \n",
       "8  [T2DM, gut, virome, obese, subjects, lean cont...  \n",
       "9     [pubertal, boys, puberty, obesity, microbiome]  "
      ]
     },
     "execution_count": 31,
     "metadata": {},
     "output_type": "execute_result"
    }
   ],
   "source": [
    "dataframe"
   ]
  },
  {
   "cell_type": "code",
   "execution_count": 33,
   "metadata": {},
   "outputs": [],
   "source": [
    "final_frame = dataframe[[\"AID\", \"keywords\"]]"
   ]
  },
  {
   "cell_type": "code",
   "execution_count": 35,
   "metadata": {},
   "outputs": [],
   "source": [
    "final_frame.to_csv(\"df_keywords.csv\", header=[\"doi\", \"keywords\"], index=False)"
   ]
  }
 ],
 "metadata": {
  "kernelspec": {
   "display_name": "Python 3",
   "language": "python",
   "name": "python3"
  },
  "language_info": {
   "codemirror_mode": {
    "name": "ipython",
    "version": 3
   },
   "file_extension": ".py",
   "mimetype": "text/x-python",
   "name": "python",
   "nbconvert_exporter": "python",
   "pygments_lexer": "ipython3",
   "version": "3.7.4"
  }
 },
 "nbformat": 4,
 "nbformat_minor": 4
}
