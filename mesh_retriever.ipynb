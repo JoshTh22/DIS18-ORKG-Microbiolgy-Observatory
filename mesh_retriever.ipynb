{
 "cells": [
  {
   "cell_type": "code",
   "execution_count": null,
   "id": "529bd9bc",
   "metadata": {},
   "outputs": [],
   "source": [
    "import sys\n",
    "!{sys.executable} -m pip install scispacy"
   ]
  },
  {
   "cell_type": "code",
   "execution_count": null,
   "id": "4fd8ab6c",
   "metadata": {},
   "outputs": [],
   "source": [
    "!{sys.executable} -m pip install https://s3-us-west-2.amazonaws.com/ai2-s2-scispacy/releases/v0.4.0/en_core_sci_sm-0.4.0.tar.gz"
   ]
  },
  {
   "cell_type": "code",
   "execution_count": null,
   "id": "3686be27",
   "metadata": {},
   "outputs": [],
   "source": [
    "import pandas as pd\n",
    "import spacy\n",
    "from scispacy.linking import EntityLinker"
   ]
  },
  {
   "cell_type": "code",
   "execution_count": 2,
   "id": "55aba25e",
   "metadata": {},
   "outputs": [],
   "source": [
    "dataframe = pd.read_csv(\"final_dataframe.csv\")"
   ]
  },
  {
   "cell_type": "code",
   "execution_count": 3,
   "id": "d579da5a",
   "metadata": {},
   "outputs": [
    {
     "data": {
      "text/plain": [
       "0       24501647\n",
       "1       33903107\n",
       "2       33901665\n",
       "3       33892804\n",
       "4       33889142\n",
       "          ...   \n",
       "1526    33735544\n",
       "1527    33652790\n",
       "1528    33640187\n",
       "1529    33593837\n",
       "1530    33553066\n",
       "Name: PMID, Length: 1531, dtype: int64"
      ]
     },
     "execution_count": 3,
     "metadata": {},
     "output_type": "execute_result"
    }
   ],
   "source": [
    "dataframe[\"PMID\"]"
   ]
  },
  {
   "cell_type": "code",
   "execution_count": 14,
   "id": "cf049f0f",
   "metadata": {},
   "outputs": [],
   "source": [
    "mesh_frame = dataframe[[\"PMID\", \"AB\"]]"
   ]
  },
  {
   "cell_type": "code",
   "execution_count": 15,
   "id": "be93fc7b",
   "metadata": {},
   "outputs": [
    {
     "name": "stderr",
     "output_type": "stream",
     "text": [
      "<ipython-input-15-5d9c7bfc3585>:1: SettingWithCopyWarning: \n",
      "A value is trying to be set on a copy of a slice from a DataFrame.\n",
      "Try using .loc[row_indexer,col_indexer] = value instead\n",
      "\n",
      "See the caveats in the documentation: https://pandas.pydata.org/pandas-docs/stable/user_guide/indexing.html#returning-a-view-versus-a-copy\n",
      "  mesh_frame[\"MESH\"]= \"\"\n"
     ]
    },
    {
     "data": {
      "text/html": [
       "<div>\n",
       "<style scoped>\n",
       "    .dataframe tbody tr th:only-of-type {\n",
       "        vertical-align: middle;\n",
       "    }\n",
       "\n",
       "    .dataframe tbody tr th {\n",
       "        vertical-align: top;\n",
       "    }\n",
       "\n",
       "    .dataframe thead th {\n",
       "        text-align: right;\n",
       "    }\n",
       "</style>\n",
       "<table border=\"1\" class=\"dataframe\">\n",
       "  <thead>\n",
       "    <tr style=\"text-align: right;\">\n",
       "      <th></th>\n",
       "      <th>PMID</th>\n",
       "      <th>AB</th>\n",
       "      <th>MESH</th>\n",
       "    </tr>\n",
       "  </thead>\n",
       "  <tbody>\n",
       "    <tr>\n",
       "      <th>0</th>\n",
       "      <td>24501647</td>\n",
       "      <td>Frateuria aurantia (ex Kondo and Ameyama 1958)...</td>\n",
       "      <td></td>\n",
       "    </tr>\n",
       "    <tr>\n",
       "      <th>1</th>\n",
       "      <td>33903107</td>\n",
       "      <td>Acinetobacter spp. have become of increased cl...</td>\n",
       "      <td></td>\n",
       "    </tr>\n",
       "    <tr>\n",
       "      <th>2</th>\n",
       "      <td>33901665</td>\n",
       "      <td>OBJECTIVES: To investigate if adding calcium t...</td>\n",
       "      <td></td>\n",
       "    </tr>\n",
       "    <tr>\n",
       "      <th>3</th>\n",
       "      <td>33892804</td>\n",
       "      <td>BACKGROUND: Knowledge on the epidemiology, gen...</td>\n",
       "      <td></td>\n",
       "    </tr>\n",
       "    <tr>\n",
       "      <th>4</th>\n",
       "      <td>33889142</td>\n",
       "      <td>The coffee berry borer, the most economically ...</td>\n",
       "      <td></td>\n",
       "    </tr>\n",
       "    <tr>\n",
       "      <th>...</th>\n",
       "      <td>...</td>\n",
       "      <td>...</td>\n",
       "      <td>...</td>\n",
       "    </tr>\n",
       "    <tr>\n",
       "      <th>1526</th>\n",
       "      <td>33735544</td>\n",
       "      <td>Within Mycoplasma genus, M. pneumoniae, M. gen...</td>\n",
       "      <td></td>\n",
       "    </tr>\n",
       "    <tr>\n",
       "      <th>1527</th>\n",
       "      <td>33652790</td>\n",
       "      <td>Background and objectives: Ureaplasma urealyti...</td>\n",
       "      <td></td>\n",
       "    </tr>\n",
       "    <tr>\n",
       "      <th>1528</th>\n",
       "      <td>33640187</td>\n",
       "      <td>BACKGROUND: Sexually transmitted infections (S...</td>\n",
       "      <td></td>\n",
       "    </tr>\n",
       "    <tr>\n",
       "      <th>1529</th>\n",
       "      <td>33593837</td>\n",
       "      <td>Ureaplasma urealyticum and U parvum are mollic...</td>\n",
       "      <td></td>\n",
       "    </tr>\n",
       "    <tr>\n",
       "      <th>1530</th>\n",
       "      <td>33553066</td>\n",
       "      <td>Background: Gardnerella vaginalis (GV) is most...</td>\n",
       "      <td></td>\n",
       "    </tr>\n",
       "  </tbody>\n",
       "</table>\n",
       "<p>1531 rows × 3 columns</p>\n",
       "</div>"
      ],
      "text/plain": [
       "          PMID                                                 AB MESH\n",
       "0     24501647  Frateuria aurantia (ex Kondo and Ameyama 1958)...     \n",
       "1     33903107  Acinetobacter spp. have become of increased cl...     \n",
       "2     33901665  OBJECTIVES: To investigate if adding calcium t...     \n",
       "3     33892804  BACKGROUND: Knowledge on the epidemiology, gen...     \n",
       "4     33889142  The coffee berry borer, the most economically ...     \n",
       "...        ...                                                ...  ...\n",
       "1526  33735544  Within Mycoplasma genus, M. pneumoniae, M. gen...     \n",
       "1527  33652790  Background and objectives: Ureaplasma urealyti...     \n",
       "1528  33640187  BACKGROUND: Sexually transmitted infections (S...     \n",
       "1529  33593837  Ureaplasma urealyticum and U parvum are mollic...     \n",
       "1530  33553066  Background: Gardnerella vaginalis (GV) is most...     \n",
       "\n",
       "[1531 rows x 3 columns]"
      ]
     },
     "execution_count": 15,
     "metadata": {},
     "output_type": "execute_result"
    }
   ],
   "source": [
    "mesh_frame[\"MESH\"]= \"\"\n",
    "mesh_frame"
   ]
  },
  {
   "cell_type": "code",
   "execution_count": 17,
   "id": "3c3446d0",
   "metadata": {},
   "outputs": [],
   "source": [
    "test_frame = mesh_frame[:5]"
   ]
  },
  {
   "cell_type": "code",
   "execution_count": 22,
   "id": "7763588c",
   "metadata": {},
   "outputs": [],
   "source": [
    "test_doc = test_frame[\"AB\"][1]"
   ]
  },
  {
   "cell_type": "code",
   "execution_count": 21,
   "id": "9617a077",
   "metadata": {},
   "outputs": [],
   "source": [
    "def entity_linker(linker_name, document):\n",
    "    \"\"\"A function that accepts the name of a scispacy knowledge base and documents and returns\n",
    "    entity link details\"\"\"\n",
    "    linker = EntityLinker(k= 2, max_entities_per_mention = 2, name = linker_name)\n",
    "    nlp = en_core_sci_sm.load()\n",
    "    nlp.add_pipe(linker)\n",
    "    doc = nlp(document)\n",
    "    try:\n",
    "        entity = doc.ents[0]\n",
    "    except IndexError:\n",
    "            entity = \"Nan\"\n",
    "    entity_details = []\n",
    "    entity_details.append(entity)\n",
    "    try:\n",
    "        for linker_ent in entity._.kb_ents:\n",
    "            Concept_Id, Score = linker_ent\n",
    "            entity_details.append('Entity_Matching_Score: {}'.format(Score))\n",
    "            entity_details.append(linker.kb.cui_to_entity[linker_ent[0]])\n",
    "    except AttributeError:\n",
    "        pass\n",
    "    return entitiy_details\n",
    "    "
   ]
  },
  {
   "cell_type": "code",
   "execution_count": null,
   "id": "853bc65c",
   "metadata": {},
   "outputs": [
    {
     "name": "stderr",
     "output_type": "stream",
     "text": [
      "/home/joshua/Schreibtisch/Studium/Projekt_1/Projekt_1/lib/python3.8/site-packages/sklearn/base.py:310: UserWarning: Trying to unpickle estimator TfidfTransformer from version 0.20.3 when using version 0.24.2. This might lead to breaking code or invalid results. Use at your own risk.\n",
      "  warnings.warn(\n",
      "/home/joshua/Schreibtisch/Studium/Projekt_1/Projekt_1/lib/python3.8/site-packages/sklearn/base.py:310: UserWarning: Trying to unpickle estimator TfidfVectorizer from version 0.20.3 when using version 0.24.2. This might lead to breaking code or invalid results. Use at your own risk.\n",
      "  warnings.warn(\n"
     ]
    }
   ],
   "source": [
    "entity_linker('mesh', test_doc)"
   ]
  },
  {
   "cell_type": "code",
   "execution_count": null,
   "id": "00f2c0c7",
   "metadata": {},
   "outputs": [],
   "source": []
  },
  {
   "cell_type": "code",
   "execution_count": null,
   "id": "9baef4d0",
   "metadata": {},
   "outputs": [],
   "source": []
  },
  {
   "cell_type": "code",
   "execution_count": null,
   "id": "e75ebc6e",
   "metadata": {},
   "outputs": [],
   "source": []
  }
 ],
 "metadata": {
  "kernelspec": {
   "display_name": "Python 3",
   "language": "python",
   "name": "python3"
  },
  "language_info": {
   "codemirror_mode": {
    "name": "ipython",
    "version": 3
   },
   "file_extension": ".py",
   "mimetype": "text/x-python",
   "name": "python",
   "nbconvert_exporter": "python",
   "pygments_lexer": "ipython3",
   "version": "3.8.6"
  }
 },
 "nbformat": 4,
 "nbformat_minor": 5
}
